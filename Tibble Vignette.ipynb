{
 "cells": [
  {
   "cell_type": "markdown",
   "metadata": {},
   "source": [
    "# Vignette\n",
    "\n",
    "I've made a small tool while waiting for an airplane. It's a small wrapper around pandas that makes dataframe manipulation more functional. The goal was to give it a slightly more functional api for personal use. It sort of works and I would like to demonstrate the functionality in this document. It might not be a package that I'll offer a lot of support for, but it has some ideas that may be worth sharing. In this document I'll describe some functionality.\n",
    "\n",
    "## Philosophy \n",
    "\n",
    "Data should be a noun and any manipulations on it should be described with verb. In R it is convenient to have those verbs be functions because the language allows you to write global operators that can chain functions togehter. In python it makes sense to have them wrapped with methods via an object instead.\n",
    "\n",
    "The idea behind the tool is to have a more minimal api that accomodates 80-90% of the typical dataframe manipulations by attaching a few very useful composable verbs to a wrapped dataframer. This work is not meant to replace pandas nor is it meant as a python port of popular r-packages (though I'll gladly admit that a lot of ideas are bluntly copied from `tidyr` and `dplyr`). \n",
    "\n",
    "The goal of this work is to show a proof of concept to demonstrate extra composability and readability for python based data manipulation. Some performance sacrifices will ensue as a result. \n",
    "\n",
    "# Starting Point\n",
    "\n",
    "To start to explain what the tool does, we need a dataset to start out with."
   ]
  },
  {
   "cell_type": "code",
   "execution_count": 1,
   "metadata": {
    "collapsed": false
   },
   "outputs": [
    {
     "name": "stdout",
     "output_type": "stream",
     "text": [
      "           a         b    c     d\n",
      "7   0.767435  0.375698  bar    bo\n",
      "8  -0.469474 -0.600639  bar    bo\n",
      "9   0.542560 -0.291694  bar    bo\n",
      "13 -1.913280 -1.057711  bar    bo\n",
      "14 -1.724918  0.822545  bar    bo\n",
      "6   1.579213 -1.150994  bar  fizz\n",
      "10 -0.463418 -0.601707  bar  fizz\n",
      "11 -0.465730  1.852278  bar  fizz\n",
      "16 -1.012831  0.208864  bar  fizz\n",
      "18 -0.908024 -1.328186  bar  fizz\n",
      "1  -0.138264 -0.225776  foo    bo\n",
      "2   0.647689  0.067528  foo    bo\n",
      "12  0.241962 -0.013497  foo    bo\n",
      "15 -0.562288 -1.220844  foo    bo\n",
      "19 -1.412304  0.196861  foo    bo\n",
      "0   0.496714  1.465649  foo  fizz\n",
      "3   1.523030 -1.424748  foo  fizz\n",
      "4  -0.234153 -0.544383  foo  fizz\n",
      "5  -0.234137  0.110923  foo  fizz\n",
      "17  0.314247 -1.959670  foo  fizz\n"
     ]
    }
   ],
   "source": [
    "import numpy as np \n",
    "import pandas as pd \n",
    "import kadro as kd\n",
    "\n",
    "np.random.seed(42)\n",
    "n = 20\n",
    "\n",
    "df = pd.DataFrame({\n",
    "    'a': np.random.randn(n),\n",
    "    'b': np.random.randn(n),\n",
    "    'c': ['foo' if x > 0.5 else 'bar' for x in np.random.rand(n)],\n",
    "    'd': ['fizz' if x > 0.6 else 'bo' for x in np.random.rand(n)]\n",
    "})\n",
    "df = df.sort_values(['c', 'd'])\n",
    "\n",
    "print(df)"
   ]
  },
  {
   "cell_type": "markdown",
   "metadata": {},
   "source": [
    "This is the data that we'll work with. We won't change the dataframe or it's api, rather we'll wrap it in an object that contains extra methods. "
   ]
  },
  {
   "cell_type": "code",
   "execution_count": 2,
   "metadata": {
    "collapsed": false
   },
   "outputs": [
    {
     "data": {
      "text/plain": [
       "Pandas derived TibbleFrame Object.\n",
       "\n",
       "          a         b    c     d\n",
       "0  0.767435  0.375698  bar    bo\n",
       "1 -0.469474 -0.600639  bar    bo\n",
       "2  0.542560 -0.291694  bar    bo\n",
       "3 -1.913280 -1.057711  bar    bo\n",
       "4 -1.724918  0.822545  bar    bo\n",
       "5  1.579213 -1.150994  bar  fizz\n",
       "6 -0.463418 -0.601707  bar  fizz\n",
       "7 -0.465730  1.852278  bar  fizz\n",
       "8 -1.012831  0.208864  bar  fizz\n",
       "9 -0.908024 -1.328186  bar  fizz\n",
       " only showing top 10 rows."
      ]
     },
     "execution_count": 2,
     "metadata": {},
     "output_type": "execute_result"
    }
   ],
   "source": [
    "kf = kd.Frame(df)\n",
    "kf"
   ]
  },
  {
   "cell_type": "markdown",
   "metadata": {},
   "source": [
    "This new object contains the original pandas dataframe as a child, this means that you can always access the original data via `<obj_name>.df`. You will always be able to work with pure pandas if need be but a few methods are added to enchance readability and composability.\n",
    "\n",
    "The added methods are: \n",
    "\n",
    "- mutate\n",
    "- filter\n",
    "- head/tail/slice\n",
    "- select/rename/drop\n",
    "- group_by/agg/ungroup\n",
    "- sort\n",
    "- sample_n\n",
    "- pipe \n",
    "- gather \n",
    "- spread\n",
    "- left_join, inner_join\n",
    "\n",
    "If you're used to `dplyr` or Spark then you may recognize some of these functions. We'll demonstrate how they work one by one. \n",
    "\n",
    "## `tibble.mutate`\n",
    "\n",
    "Mutate overwrites a column value or creates a new one. You specify the name of the column via the parameter name and you use a lambda function to describe the contents of the column. The input of the function will be the dataframe in the tibble object. This means that you can refer to columns but that you can also use numpy to describe changes. "
   ]
  },
  {
   "cell_type": "code",
   "execution_count": 3,
   "metadata": {
    "collapsed": false
   },
   "outputs": [
    {
     "data": {
      "text/plain": [
       "Pandas derived TibbleFrame Object.\n",
       "\n",
       "          a         b    c     d         e\n",
       "0  0.767435  0.375698  bar    bo  1.518831\n",
       "1 -0.469474 -0.600639  bar    bo -1.670752\n",
       "2  0.542560 -0.291694  bar    bo -0.040827\n",
       "3 -1.913280 -1.057711  bar    bo -4.028702\n",
       "4 -1.724918  0.822545  bar    bo -0.079828\n",
       "5  1.579213 -1.150994  bar  fizz -0.722774\n",
       "6 -0.463418 -0.601707  bar  fizz -1.666831\n",
       "7 -0.465730  1.852278  bar  fizz  3.238827\n",
       "8 -1.012831  0.208864  bar  fizz -0.595104\n",
       "9 -0.908024 -1.328186  bar  fizz -3.564396\n",
       " only showing top 10 rows."
      ]
     },
     "execution_count": 3,
     "metadata": {},
     "output_type": "execute_result"
    }
   ],
   "source": [
    "kf.mutate(e = lambda _: _['a'] + _['b']*2)"
   ]
  },
  {
   "cell_type": "markdown",
   "metadata": {},
   "source": [
    "The column is added via a lambda function. This lambda function accepts the original dataframe. This allows you to refer to columns and allows you to apply any function you'd like. You can also create multiple columns in a single mutate statement."
   ]
  },
  {
   "cell_type": "code",
   "execution_count": 4,
   "metadata": {
    "collapsed": false
   },
   "outputs": [
    {
     "name": "stderr",
     "output_type": "stream",
     "text": [
      "/Users/code/anaconda3/envs/ds3/lib/python3.6/site-packages/ipykernel/__main__.py:3: RuntimeWarning: invalid value encountered in sqrt\n",
      "  app.launch_new_instance()\n"
     ]
    },
    {
     "data": {
      "text/plain": [
       "Pandas derived TibbleFrame Object.\n",
       "\n",
       "          a         b    c     d         e         f\n",
       "0  0.383717  0.375698  bar    bo  1.518831  1.232409\n",
       "1 -0.234737 -0.600639  bar    bo -1.670752       NaN\n",
       "2  0.271280 -0.291694  bar    bo -0.040827       NaN\n",
       "3 -0.956640 -1.057711  bar    bo -4.028702       NaN\n",
       "4 -0.862459  0.822545  bar    bo -0.079828       NaN\n",
       "5  0.789606 -1.150994  bar  fizz -0.722774       NaN\n",
       "6 -0.231709 -0.601707  bar  fizz -1.666831       NaN\n",
       "7 -0.232865  1.852278  bar  fizz  3.238827  1.799674\n",
       "8 -0.506416  0.208864  bar  fizz -0.595104       NaN\n",
       "9 -0.454012 -1.328186  bar  fizz -3.564396       NaN\n",
       " only showing top 10 rows."
      ]
     },
     "execution_count": 4,
     "metadata": {},
     "output_type": "execute_result"
    }
   ],
   "source": [
    "(kf\n",
    "  .mutate(e = lambda _: _['a'] + _['b']*2,\n",
    "          f = lambda _: np.sqrt(_['e']),\n",
    "          a = lambda _: _['a'] / 2))"
   ]
  },
  {
   "cell_type": "markdown",
   "metadata": {},
   "source": [
    "You might appreciate that this method is somewhat lazy. You can use the 1st new column that you've created when creating your second one without the need to call `mutate` again. \n",
    "\n",
    "Notice that any numpy warnings that you may cause will still appear, but they won't cause the operation to fail. "
   ]
  },
  {
   "cell_type": "markdown",
   "metadata": {},
   "source": [
    "## `tibble.filter`\n",
    "\n",
    "Filter creates a subset of the datastructure. Whenever the datastructure evaluates as true it will keep the row. "
   ]
  },
  {
   "cell_type": "code",
   "execution_count": 5,
   "metadata": {
    "collapsed": false
   },
   "outputs": [
    {
     "data": {
      "text/plain": [
       "Pandas derived TibbleFrame Object.\n",
       "\n",
       "          a         b    c     d\n",
       "0  0.767435  0.375698  bar    bo\n",
       "1  0.647689  0.067528  foo    bo\n",
       "2  0.496714  1.465649  foo  fizz"
      ]
     },
     "execution_count": 5,
     "metadata": {},
     "output_type": "execute_result"
    }
   ],
   "source": [
    "(kf\n",
    "  .filter(lambda _: _['a'] > 0, \n",
    "          lambda _: _['b'] > 0))"
   ]
  },
  {
   "cell_type": "markdown",
   "metadata": {},
   "source": [
    "Again you should notice a lazy structure. No need to call `.filter` multiple times as you can apply multiple filters in a single step. "
   ]
  },
  {
   "cell_type": "markdown",
   "metadata": {},
   "source": [
    "## `tibble.slice` "
   ]
  },
  {
   "cell_type": "code",
   "execution_count": 6,
   "metadata": {
    "collapsed": false
   },
   "outputs": [
    {
     "data": {
      "text/plain": [
       "Pandas derived TibbleFrame Object.\n",
       "\n",
       "          a         b    c   d\n",
       "0  0.542560 -0.291694  bar  bo\n",
       "1 -1.913280 -1.057711  bar  bo\n",
       "2 -0.138264 -0.225776  foo  bo"
      ]
     },
     "execution_count": 6,
     "metadata": {},
     "output_type": "execute_result"
    }
   ],
   "source": [
    "kf.slice(2, 3, 10)"
   ]
  },
  {
   "cell_type": "code",
   "execution_count": 7,
   "metadata": {
    "collapsed": false
   },
   "outputs": [
    {
     "data": {
      "text/plain": [
       "Pandas derived TibbleFrame Object.\n",
       "\n",
       "          a         b    c   d\n",
       "0  0.542560 -0.291694  bar  bo\n",
       "1 -1.913280 -1.057711  bar  bo\n",
       "2 -0.138264 -0.225776  foo  bo"
      ]
     },
     "execution_count": 7,
     "metadata": {},
     "output_type": "execute_result"
    }
   ],
   "source": [
    "kf.slice([2, 3, 10])"
   ]
  },
  {
   "cell_type": "markdown",
   "metadata": {},
   "source": [
    "## `tibble.head` and `tibble.tail` \n",
    "\n",
    "These methods are just like their pandas equivalents. The select the top rows or the bottom rows of the datastructure. "
   ]
  },
  {
   "cell_type": "code",
   "execution_count": 8,
   "metadata": {
    "collapsed": false
   },
   "outputs": [
    {
     "data": {
      "text/plain": [
       "Pandas derived TibbleFrame Object.\n",
       "\n",
       "          a         b    c   d\n",
       "0  0.767435  0.375698  bar  bo\n",
       "1 -0.469474 -0.600639  bar  bo\n",
       "2  0.542560 -0.291694  bar  bo\n",
       "3 -1.913280 -1.057711  bar  bo\n",
       "4 -1.724918  0.822545  bar  bo"
      ]
     },
     "execution_count": 8,
     "metadata": {},
     "output_type": "execute_result"
    }
   ],
   "source": [
    "kf.head(5)"
   ]
  },
  {
   "cell_type": "code",
   "execution_count": 9,
   "metadata": {
    "collapsed": false
   },
   "outputs": [
    {
     "data": {
      "text/plain": [
       "Pandas derived TibbleFrame Object.\n",
       "\n",
       "          a         b    c   d\n",
       "0  0.542560 -0.291694  bar  bo\n",
       "1 -1.913280 -1.057711  bar  bo\n",
       "2 -1.724918  0.822545  bar  bo"
      ]
     },
     "execution_count": 9,
     "metadata": {},
     "output_type": "execute_result"
    }
   ],
   "source": [
    "kf.head(5).tail(3)"
   ]
  },
  {
   "cell_type": "markdown",
   "metadata": {},
   "source": [
    "## `tibble.select` \n",
    "\n",
    "Select is merely a method to select a subset of columns. "
   ]
  },
  {
   "cell_type": "code",
   "execution_count": 10,
   "metadata": {
    "collapsed": false
   },
   "outputs": [
    {
     "data": {
      "text/plain": [
       "Pandas derived TibbleFrame Object.\n",
       "\n",
       "          b    c\n",
       "0  0.375698  bar\n",
       "1 -0.600639  bar\n",
       "2 -0.291694  bar\n",
       "3 -1.057711  bar\n",
       "4  0.822545  bar\n",
       "5 -1.150994  bar\n",
       "6 -0.601707  bar\n",
       "7  1.852278  bar\n",
       "8  0.208864  bar\n",
       "9 -1.328186  bar\n",
       " only showing top 10 rows."
      ]
     },
     "execution_count": 10,
     "metadata": {},
     "output_type": "execute_result"
    }
   ],
   "source": [
    "kf.select('b', 'c')"
   ]
  },
  {
   "cell_type": "code",
   "execution_count": 11,
   "metadata": {
    "collapsed": false,
    "scrolled": true
   },
   "outputs": [
    {
     "data": {
      "text/plain": [
       "Pandas derived TibbleFrame Object.\n",
       "\n",
       "          b    c\n",
       "0  0.375698  bar\n",
       "1 -0.600639  bar\n",
       "2 -0.291694  bar\n",
       "3 -1.057711  bar\n",
       "4  0.822545  bar\n",
       "5 -1.150994  bar\n",
       "6 -0.601707  bar\n",
       "7  1.852278  bar\n",
       "8  0.208864  bar\n",
       "9 -1.328186  bar\n",
       " only showing top 10 rows."
      ]
     },
     "execution_count": 11,
     "metadata": {},
     "output_type": "execute_result"
    }
   ],
   "source": [
    "kf.select(['b', 'c'])"
   ]
  },
  {
   "cell_type": "markdown",
   "metadata": {},
   "source": [
    "## `tibble.rename` \n",
    "\n",
    "The `.rename` method expects a dictionary of strings where the keys represent the new names and the values represent the old names. "
   ]
  },
  {
   "cell_type": "code",
   "execution_count": 12,
   "metadata": {
    "collapsed": false
   },
   "outputs": [
    {
     "data": {
      "text/plain": [
       "Pandas derived TibbleFrame Object.\n",
       "\n",
       "          a         b    c     d\n",
       "0  0.767435  0.375698  bar    bo\n",
       "1 -0.469474 -0.600639  bar    bo\n",
       "2  0.542560 -0.291694  bar    bo\n",
       "3 -1.913280 -1.057711  bar    bo\n",
       "4 -1.724918  0.822545  bar    bo\n",
       "5  1.579213 -1.150994  bar  fizz\n",
       "6 -0.463418 -0.601707  bar  fizz\n",
       "7 -0.465730  1.852278  bar  fizz\n",
       "8 -1.012831  0.208864  bar  fizz\n",
       "9 -0.908024 -1.328186  bar  fizz\n",
       " only showing top 10 rows."
      ]
     },
     "execution_count": 12,
     "metadata": {},
     "output_type": "execute_result"
    }
   ],
   "source": [
    "kf"
   ]
  },
  {
   "cell_type": "code",
   "execution_count": 13,
   "metadata": {
    "collapsed": false,
    "scrolled": true
   },
   "outputs": [
    {
     "data": {
      "text/plain": [
       "Pandas derived TibbleFrame Object.\n",
       "\n",
       "          a         b    c     d\n",
       "0  0.767435  0.375698  bar    bo\n",
       "1 -0.469474 -0.600639  bar    bo\n",
       "2  0.542560 -0.291694  bar    bo\n",
       "3 -1.913280 -1.057711  bar    bo\n",
       "4 -1.724918  0.822545  bar    bo\n",
       "5  1.579213 -1.150994  bar  fizz\n",
       "6 -0.463418 -0.601707  bar  fizz\n",
       "7 -0.465730  1.852278  bar  fizz\n",
       "8 -1.012831  0.208864  bar  fizz\n",
       "9 -0.908024 -1.328186  bar  fizz\n",
       " only showing top 10 rows."
      ]
     },
     "execution_count": 13,
     "metadata": {},
     "output_type": "execute_result"
    }
   ],
   "source": [
    "kf.rename({\"aa\":\"a\", \"bb\":\"b\"})"
   ]
  },
  {
   "cell_type": "markdown",
   "metadata": {},
   "source": [
    "## `tibble.set_names` \n",
    "\n",
    "The `.set_names` method expects a list of strings and will reset the column names of the dataframe. "
   ]
  },
  {
   "cell_type": "code",
   "execution_count": 14,
   "metadata": {
    "collapsed": false
   },
   "outputs": [
    {
     "data": {
      "text/plain": [
       "Pandas derived TibbleFrame Object.\n",
       "\n",
       "          a         b    c omg_d\n",
       "0  0.767435  0.375698  bar    bo\n",
       "1 -0.469474 -0.600639  bar    bo\n",
       "2  0.542560 -0.291694  bar    bo\n",
       "3 -1.913280 -1.057711  bar    bo\n",
       "4 -1.724918  0.822545  bar    bo\n",
       "5  1.579213 -1.150994  bar  fizz\n",
       "6 -0.463418 -0.601707  bar  fizz\n",
       "7 -0.465730  1.852278  bar  fizz\n",
       "8 -1.012831  0.208864  bar  fizz\n",
       "9 -0.908024 -1.328186  bar  fizz\n",
       " only showing top 10 rows."
      ]
     },
     "execution_count": 14,
     "metadata": {},
     "output_type": "execute_result"
    }
   ],
   "source": [
    "kf.set_names([\"a\", \"b\", \"c\", \"omg_d\"])"
   ]
  },
  {
   "cell_type": "markdown",
   "metadata": {},
   "source": [
    "## `tibble.drop` \n",
    "\n",
    "The `.drop` method allows you to pass column names of columns that can be dropped from the datastructure. "
   ]
  },
  {
   "cell_type": "code",
   "execution_count": 15,
   "metadata": {
    "collapsed": false
   },
   "outputs": [
    {
     "data": {
      "text/plain": [
       "Pandas derived TibbleFrame Object.\n",
       "\n",
       "     c     d\n",
       "0  bar    bo\n",
       "1  bar    bo\n",
       "2  bar    bo\n",
       "3  bar    bo\n",
       "4  bar    bo\n",
       "5  bar  fizz\n",
       "6  bar  fizz\n",
       "7  bar  fizz\n",
       "8  bar  fizz\n",
       "9  bar  fizz\n",
       " only showing top 10 rows."
      ]
     },
     "execution_count": 15,
     "metadata": {},
     "output_type": "execute_result"
    }
   ],
   "source": [
    "kf.drop(\"a\", \"b\")"
   ]
  },
  {
   "cell_type": "code",
   "execution_count": 16,
   "metadata": {
    "collapsed": false
   },
   "outputs": [
    {
     "data": {
      "text/plain": [
       "Pandas derived TibbleFrame Object.\n",
       "\n",
       "     c     d\n",
       "0  bar    bo\n",
       "1  bar    bo\n",
       "2  bar    bo\n",
       "3  bar    bo\n",
       "4  bar    bo\n",
       "5  bar  fizz\n",
       "6  bar  fizz\n",
       "7  bar  fizz\n",
       "8  bar  fizz\n",
       "9  bar  fizz\n",
       " only showing top 10 rows."
      ]
     },
     "execution_count": 16,
     "metadata": {},
     "output_type": "execute_result"
    }
   ],
   "source": [
    "kf.drop([\"a\", \"b\"])"
   ]
  },
  {
   "cell_type": "markdown",
   "metadata": {},
   "source": [
    "## `tibble.group_by`"
   ]
  },
  {
   "cell_type": "code",
   "execution_count": 17,
   "metadata": {
    "collapsed": false
   },
   "outputs": [
    {
     "data": {
      "text/plain": [
       "Pandas derived TibbleFrame Object.\n",
       "With groups ['c', 'd']\n",
       "\n",
       "          a         b    c     d\n",
       "0  0.767435  0.375698  bar    bo\n",
       "1 -0.469474 -0.600639  bar    bo\n",
       "2  0.542560 -0.291694  bar    bo\n",
       "3 -1.913280 -1.057711  bar    bo\n",
       "4 -1.724918  0.822545  bar    bo\n",
       "5  1.579213 -1.150994  bar  fizz\n",
       "6 -0.463418 -0.601707  bar  fizz\n",
       "7 -0.465730  1.852278  bar  fizz\n",
       "8 -1.012831  0.208864  bar  fizz\n",
       "9 -0.908024 -1.328186  bar  fizz\n",
       " only showing top 10 rows."
      ]
     },
     "execution_count": 17,
     "metadata": {},
     "output_type": "execute_result"
    }
   ],
   "source": [
    "kf.group_by(\"c\", \"d\")"
   ]
  },
  {
   "cell_type": "markdown",
   "metadata": {},
   "source": [
    "## `tibble.agg`\n",
    "\n",
    "With the grouping attached you can easily aggregate with the `.agg` method. Notice that aggregating without a group will just regard the entire datastructure as a single group."
   ]
  },
  {
   "cell_type": "code",
   "execution_count": 18,
   "metadata": {
    "collapsed": false
   },
   "outputs": [
    {
     "data": {
      "text/plain": [
       "Pandas derived TibbleFrame Object.\n",
       "\n",
       "     cov_ab       m_a       v_b\n",
       "0  0.937099 -0.171299  0.890244"
      ]
     },
     "execution_count": 18,
     "metadata": {},
     "output_type": "execute_result"
    }
   ],
   "source": [
    "kf.agg(m_a = lambda _: np.mean(_['a']),\n",
    "       v_b = lambda _: np.var(_['b']), \n",
    "       cov_ab = lambda _: np.cov(_['a'], _['b'])[1,1])"
   ]
  },
  {
   "cell_type": "code",
   "execution_count": 19,
   "metadata": {
    "collapsed": false
   },
   "outputs": [
    {
     "data": {
      "text/plain": [
       "Pandas derived TibbleFrame Object.\n",
       "\n",
       "     c     d       m_a       v_b    cov_ab\n",
       "0  bar    bo -0.559536  0.453859  0.567323\n",
       "1  bar  fizz -0.254158  1.343500  1.679374\n",
       "2  foo    bo -0.244641  0.259796  0.324744\n",
       "3  foo  fizz  0.373140  1.444080  1.805100"
      ]
     },
     "execution_count": 19,
     "metadata": {},
     "output_type": "execute_result"
    }
   ],
   "source": [
    "(kf\n",
    " .group_by(\"c\", \"d\")\n",
    " .agg(m_a = lambda _: np.mean(_['a']),\n",
    "      v_b = lambda _: np.var(_['b']), \n",
    "      cov_ab = lambda _: np.cov(_['a'], _['b'])[1,1]))"
   ]
  },
  {
   "cell_type": "markdown",
   "metadata": {},
   "source": [
    "A few things to note. \n",
    "\n",
    "- in the `.agg` method you can pass any function that accepts a dataframe\n",
    "- the `.agg` method can have multiple output columns that depend on different columns \n",
    "- you can even combine multiple columns in a lambda function "
   ]
  },
  {
   "cell_type": "markdown",
   "metadata": {},
   "source": [
    "## `tibble.sort`"
   ]
  },
  {
   "cell_type": "code",
   "execution_count": 20,
   "metadata": {
    "collapsed": false
   },
   "outputs": [
    {
     "data": {
      "text/plain": [
       "Pandas derived TibbleFrame Object.\n",
       "\n",
       "          a         b    c     d\n",
       "0 -1.913280 -1.057711  bar    bo\n",
       "1 -1.724918  0.822545  bar    bo\n",
       "2 -1.412304  0.196861  foo    bo\n",
       "3 -1.012831  0.208864  bar  fizz\n",
       "4 -0.908024 -1.328186  bar  fizz\n",
       "5 -0.562288 -1.220844  foo    bo\n",
       "6 -0.469474 -0.600639  bar    bo\n",
       "7 -0.465730  1.852278  bar  fizz\n",
       "8 -0.463418 -0.601707  bar  fizz\n",
       "9 -0.234153 -0.544383  foo  fizz\n",
       " only showing top 10 rows."
      ]
     },
     "execution_count": 20,
     "metadata": {},
     "output_type": "execute_result"
    }
   ],
   "source": [
    "kf.sort(\"a\")"
   ]
  },
  {
   "cell_type": "markdown",
   "metadata": {},
   "source": [
    "Note that grouping a datastructure has an effect on how it is sorted."
   ]
  },
  {
   "cell_type": "code",
   "execution_count": 21,
   "metadata": {
    "collapsed": false
   },
   "outputs": [
    {
     "data": {
      "text/plain": [
       "Pandas derived TibbleFrame Object.\n",
       "With groups ['c', 'd']\n",
       "\n",
       "          a         b    c     d\n",
       "0 -1.913280 -1.057711  bar    bo\n",
       "1 -1.724918  0.822545  bar    bo\n",
       "2 -0.469474 -0.600639  bar    bo\n",
       "3  0.542560 -0.291694  bar    bo\n",
       "4  0.767435  0.375698  bar    bo\n",
       "5 -1.012831  0.208864  bar  fizz\n",
       "6 -0.908024 -1.328186  bar  fizz\n",
       "7 -0.465730  1.852278  bar  fizz\n",
       "8 -0.463418 -0.601707  bar  fizz\n",
       "9  1.579213 -1.150994  bar  fizz\n",
       " only showing top 10 rows."
      ]
     },
     "execution_count": 21,
     "metadata": {},
     "output_type": "execute_result"
    }
   ],
   "source": [
    "kf.group_by(\"c\", \"d\").sort(\"a\")"
   ]
  },
  {
   "cell_type": "markdown",
   "metadata": {},
   "source": [
    "## `tibble.ungroup`"
   ]
  },
  {
   "cell_type": "code",
   "execution_count": 22,
   "metadata": {
    "collapsed": false
   },
   "outputs": [
    {
     "data": {
      "text/plain": [
       "Pandas derived TibbleFrame Object.\n",
       "With groups ['a']\n",
       "\n",
       "          a         b    c     d\n",
       "0  0.767435  0.375698  bar    bo\n",
       "1 -0.469474 -0.600639  bar    bo\n",
       "2  0.542560 -0.291694  bar    bo\n",
       "3 -1.913280 -1.057711  bar    bo\n",
       "4 -1.724918  0.822545  bar    bo\n",
       "5  1.579213 -1.150994  bar  fizz\n",
       "6 -0.463418 -0.601707  bar  fizz\n",
       "7 -0.465730  1.852278  bar  fizz\n",
       "8 -1.012831  0.208864  bar  fizz\n",
       "9 -0.908024 -1.328186  bar  fizz\n",
       " only showing top 10 rows."
      ]
     },
     "execution_count": 22,
     "metadata": {},
     "output_type": "execute_result"
    }
   ],
   "source": [
    "kf.group_by(\"a\")"
   ]
  },
  {
   "cell_type": "code",
   "execution_count": 23,
   "metadata": {
    "collapsed": false
   },
   "outputs": [
    {
     "data": {
      "text/plain": [
       "Pandas derived TibbleFrame Object.\n",
       "\n",
       "          a         b    c     d\n",
       "0  0.767435  0.375698  bar    bo\n",
       "1 -0.469474 -0.600639  bar    bo\n",
       "2  0.542560 -0.291694  bar    bo\n",
       "3 -1.913280 -1.057711  bar    bo\n",
       "4 -1.724918  0.822545  bar    bo\n",
       "5  1.579213 -1.150994  bar  fizz\n",
       "6 -0.463418 -0.601707  bar  fizz\n",
       "7 -0.465730  1.852278  bar  fizz\n",
       "8 -1.012831  0.208864  bar  fizz\n",
       "9 -0.908024 -1.328186  bar  fizz\n",
       " only showing top 10 rows."
      ]
     },
     "execution_count": 23,
     "metadata": {},
     "output_type": "execute_result"
    }
   ],
   "source": [
    "kf.group_by(\"a\").ungroup()"
   ]
  },
  {
   "cell_type": "markdown",
   "metadata": {},
   "source": [
    "## `tibble.sample_n`"
   ]
  },
  {
   "cell_type": "code",
   "execution_count": 24,
   "metadata": {
    "collapsed": false
   },
   "outputs": [
    {
     "data": {
      "text/plain": [
       "Pandas derived TibbleFrame Object.\n",
       "\n",
       "          a         b    c     d\n",
       "0 -0.234153 -0.544383  foo  fizz\n",
       "1 -0.234137  0.110923  foo  fizz\n",
       "2 -0.469474 -0.600639  bar    bo\n",
       "3  1.579213 -1.150994  bar  fizz\n",
       "4 -1.913280 -1.057711  bar    bo\n",
       "5  0.496714  1.465649  foo  fizz\n",
       "6 -0.465730  1.852278  bar  fizz\n",
       "7  0.647689  0.067528  foo    bo\n",
       "8  1.523030 -1.424748  foo  fizz\n",
       "9 -1.012831  0.208864  bar  fizz"
      ]
     },
     "execution_count": 24,
     "metadata": {},
     "output_type": "execute_result"
    }
   ],
   "source": [
    "kf.sample_n(10)"
   ]
  },
  {
   "cell_type": "code",
   "execution_count": 25,
   "metadata": {
    "collapsed": false
   },
   "outputs": [
    {
     "data": {
      "text/plain": [
       "Pandas derived TibbleFrame Object.\n",
       "\n",
       "         a         b    c   d\n",
       "0 -1.91328 -1.057711  bar  bo\n",
       "1 -1.91328 -1.057711  bar  bo\n",
       "2 -1.91328 -1.057711  bar  bo\n",
       "3 -1.91328 -1.057711  bar  bo\n",
       "4 -1.91328 -1.057711  bar  bo"
      ]
     },
     "execution_count": 25,
     "metadata": {},
     "output_type": "execute_result"
    }
   ],
   "source": [
    "kf.sample_n(1000, replace=True).sort(\"a\").head(5)"
   ]
  },
  {
   "cell_type": "markdown",
   "metadata": {},
   "source": [
    "## `tibble.pipe` \n",
    "\n",
    "The `.pipe` method is a simple wrapper around the `pandas.DataFrame.pipe` method. It was the method I was using most from pandas and I did not want it's functionality removed. \n",
    "\n",
    "It is a very useful construct that allows you to add functions can can perform complex tasks on the datastructure. "
   ]
  },
  {
   "cell_type": "code",
   "execution_count": 26,
   "metadata": {
    "collapsed": false
   },
   "outputs": [
    {
     "data": {
      "text/plain": [
       "Pandas derived TibbleFrame Object.\n",
       "\n",
       "           a         b    c     d\n",
       "0   7.674347  0.751396  bar    bo\n",
       "1  -4.694744 -1.201277  bar    bo\n",
       "2   5.425600 -0.583387  bar    bo\n",
       "3 -19.132802 -2.115422  bar    bo\n",
       "4 -17.249178  1.645090  bar    bo\n",
       "5  15.792128 -2.301987  bar  fizz\n",
       "6  -4.634177 -1.203413  bar  fizz\n",
       "7  -4.657298  3.704556  bar  fizz\n",
       "8 -10.128311  0.417727  bar  fizz\n",
       "9  -9.080241 -2.656372  bar  fizz\n",
       " only showing top 10 rows."
      ]
     },
     "execution_count": 26,
     "metadata": {},
     "output_type": "execute_result"
    }
   ],
   "source": [
    "def heavy_func(frame, colname, multy):\n",
    "    frame[colname] = frame[colname] * multy\n",
    "    return frame\n",
    "    \n",
    "(kf\n",
    " .pipe(heavy_func, colname = \"b\", multy = 2)\n",
    " .pipe(heavy_func, colname = \"a\", multy = 10))"
   ]
  },
  {
   "cell_type": "markdown",
   "metadata": {},
   "source": [
    "## `tibble.gather` "
   ]
  },
  {
   "cell_type": "code",
   "execution_count": null,
   "metadata": {
    "collapsed": false
   },
   "outputs": [],
   "source": []
  },
  {
   "cell_type": "markdown",
   "metadata": {},
   "source": [
    "## `tibble.spread` "
   ]
  },
  {
   "cell_type": "code",
   "execution_count": null,
   "metadata": {
    "collapsed": true
   },
   "outputs": [],
   "source": []
  },
  {
   "cell_type": "markdown",
   "metadata": {},
   "source": [
    "## `tibble.left_join` "
   ]
  },
  {
   "cell_type": "code",
   "execution_count": 27,
   "metadata": {
    "collapsed": true
   },
   "outputs": [],
   "source": [
    "df_age = pd.DataFrame({\n",
    "    'name': ['vincent', 'tim', 'anna'],\n",
    "    'age': [28, 30, 25]\n",
    "})\n",
    "\n",
    "df_length = pd.DataFrame({\n",
    "    'name': ['vincent', 'tim'],\n",
    "    'length': [188, 172]\n",
    "})\n",
    "\n",
    "kd_age = kd.Frame(df_age)\n",
    "kd_length = kd.Frame(df_length)"
   ]
  },
  {
   "cell_type": "code",
   "execution_count": 28,
   "metadata": {
    "collapsed": false
   },
   "outputs": [
    {
     "data": {
      "text/plain": [
       "Pandas derived TibbleFrame Object.\n",
       "\n",
       "   age     name  length\n",
       "0   28  vincent   188.0\n",
       "1   30      tim   172.0\n",
       "2   25     anna     NaN"
      ]
     },
     "execution_count": 28,
     "metadata": {},
     "output_type": "execute_result"
    }
   ],
   "source": [
    "kd_age.left_join(kd_length)"
   ]
  },
  {
   "cell_type": "markdown",
   "metadata": {},
   "source": [
    "## `tibble.inner` "
   ]
  },
  {
   "cell_type": "code",
   "execution_count": 29,
   "metadata": {
    "collapsed": false
   },
   "outputs": [
    {
     "data": {
      "text/plain": [
       "Pandas derived TibbleFrame Object.\n",
       "\n",
       "   age     name  length\n",
       "0   28  vincent     188\n",
       "1   30      tim     172"
      ]
     },
     "execution_count": 29,
     "metadata": {},
     "output_type": "execute_result"
    }
   ],
   "source": [
    "kd_age.inner_join(kd_length)"
   ]
  },
  {
   "cell_type": "markdown",
   "metadata": {},
   "source": [
    "# Composability"
   ]
  },
  {
   "cell_type": "code",
   "execution_count": null,
   "metadata": {
    "collapsed": true
   },
   "outputs": [],
   "source": []
  },
  {
   "cell_type": "markdown",
   "metadata": {},
   "source": [
    "# Caching \n",
    "\n",
    "Tibble assumes a bit of immutability. Whatever method you call, it will create a new tibble object to prevent any influence spreading to a parent. This also means that if you want to gain performance, you'll want to store intermediate results into a seperate object."
   ]
  }
 ],
 "metadata": {
  "anaconda-cloud": {},
  "kernelspec": {
   "display_name": "Python 3",
   "language": "python",
   "name": "python3"
  },
  "language_info": {
   "codemirror_mode": {
    "name": "ipython",
    "version": 3
   },
   "file_extension": ".py",
   "mimetype": "text/x-python",
   "name": "python",
   "nbconvert_exporter": "python",
   "pygments_lexer": "ipython3",
   "version": "3.6.0"
  }
 },
 "nbformat": 4,
 "nbformat_minor": 1
}
